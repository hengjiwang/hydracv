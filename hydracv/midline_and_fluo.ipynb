{
 "cells": [
  {
   "cell_type": "code",
   "execution_count": null,
   "metadata": {},
   "outputs": [],
   "source": [
    "%load_ext autoreload\n",
    "%autoreload 2\n",
    "\n",
    "import sys, os\n",
    "sys.path.insert(0, os.path.abspath(os.path.join(os.path.abspath(''), '..')))\n",
    "\n",
    "import numpy as np\n",
    "import matplotlib.pyplot as plt\n",
    "import pandas as pd\n",
    "import seaborn as sns\n",
    "\n",
    "from hydracv.midline import find_midline_midpoints, find_midline_midpoints_corrected\n",
    "from hydracv.fluorescence import trace_fluo\n",
    "import hydracv.utils.utils as utils"
   ]
  },
  {
   "cell_type": "code",
   "execution_count": null,
   "metadata": {},
   "outputs": [],
   "source": [
    "BISECTION_DATA_HOME = \"/Users/katyabrooun/Google Drive/Shared drives/hydra/data-analysis/Bisection_Full/\"\n",
    "VIDEO_NAME = \"71420_ngcamp_hy6_peduncle48hr\" # TO MODIFY\n",
    "FPS = 5 # frames per second in original video (used to convert frames to seconds for x axes on plots)\n",
    "BODY_PART = '/Peduncle/' # TO MODIFY\n",
    "EXP_NAME = 'GCaMP6_Bisection_Exp6'# TO MODIFY\n",
    "SAVE_DIR = '/Users/katyabrooun/Fairhall_Lab/hydra/bisection-data-analysis/exp6' + BODY_PART # TO MODIFY"
   ]
  },
  {
   "cell_type": "code",
   "execution_count": null,
   "metadata": {},
   "outputs": [],
   "source": [
    "# for saving off data\n",
    "FILE_FLUO = SAVE_DIR + 'total_fluo_' + VIDEO_NAME + '.csv'\n",
    "FILE_MIDPOINTS = SAVE_DIR + \"midpoints_\"+ VIDEO_NAME +\".csv\"\n",
    "FILE_LENGTH = SAVE_DIR + \"lengths_\" + VIDEO_NAME + \".csv\""
   ]
  },
  {
   "cell_type": "markdown",
   "metadata": {},
   "source": [
    "## Midline and length\n",
    "\n",
    "Requirements: \n",
    "- per-frame contours\n",
    "- tracked data (results from DeepLabCut)"
   ]
  },
  {
   "cell_type": "code",
   "execution_count": null,
   "metadata": {},
   "outputs": [],
   "source": [
    "FILE_CONTOUR = BISECTION_DATA_HOME + 'Icy_Contours/' + EXP_NAME + BODY_PART + VIDEO_NAME +  \"_ROIs.xml\"\n",
    "FILE_MARKER = BISECTION_DATA_HOME + 'DLC_Data/' + EXP_NAME + BODY_PART + \\\n",
    "\"71420_ngcamp_hy6_peduncle48hrDLC_resnet50_EXP6-Ped-48hrNov30shuffle1_45000.csv\" # TO MODIFY"
   ]
  },
  {
   "cell_type": "code",
   "execution_count": null,
   "metadata": {},
   "outputs": [],
   "source": [
    "# Original find midline code\n",
    "midpoints_orig = find_midline_midpoints.find_midline(file_contour=FILE_CONTOUR,\n",
    "                                                     file_marker=FILE_MARKER,\n",
    "                                                     nseg=40,\n",
    "                                                     play=False)"
   ]
  },
  {
   "cell_type": "code",
   "execution_count": null,
   "metadata": {},
   "outputs": [],
   "source": [
    "# Save the original midpoints\n",
    "df = pd.DataFrame(midpoints_orig)\n",
    "df.to_csv(FILE_MIDPOINTS, index=False)"
   ]
  },
  {
   "cell_type": "code",
   "execution_count": null,
   "metadata": {},
   "outputs": [],
   "source": [
    "# Plot the length\n",
    "midpoints_orig_data = find_midline_midpoints_corrected.load_midpoints(FILE_MIDPOINTS)\n",
    "\n",
    "midlens_orig = find_midline_midpoints_corrected.extract_lengths(midpoints_orig_data, normalize=False)\n",
    "\n",
    "plt.figure(figsize=(20,3))\n",
    "plt.plot(midlens_orig)\n",
    "plt.show()"
   ]
  },
  {
   "cell_type": "code",
   "execution_count": null,
   "metadata": {},
   "outputs": [],
   "source": [
    "# Save the lengths (per frame)\n",
    "df = pd.DataFrame(midlens_orig)\n",
    "df.to_csv(FILE_LENGTH, index=False)"
   ]
  },
  {
   "cell_type": "markdown",
   "metadata": {},
   "source": [
    "### First derivative of midline length"
   ]
  },
  {
   "cell_type": "code",
   "execution_count": null,
   "metadata": {},
   "outputs": [],
   "source": [
    "# Plot the change in length, rather than length itself\n",
    "\n",
    "midlen_grads = np.gradient(midlens_orig)\n",
    "\n",
    "plt.figure(figsize=(20,3))\n",
    "plt.plot(midlen_grads)\n",
    "plt.show()"
   ]
  },
  {
   "cell_type": "markdown",
   "metadata": {},
   "source": [
    "## Fluorescence\n",
    "\n",
    "Requirements: \n",
    "- video\n",
    "\n",
    "Optional:\n",
    "- single ROI specifying which portion of video frames to compute fluorescence over (useful if there are external objects in video)"
   ]
  },
  {
   "cell_type": "code",
   "execution_count": null,
   "metadata": {},
   "outputs": [],
   "source": [
    "FILE_VIDEO = BISECTION_DATA_HOME + \"Original_Videos/\" + EXP_NAME + BODY_PART + VIDEO_NAME + \".avi\"\n",
    "FILE_FLUO_ROI = BISECTION_DATA_HOME + 'Icy_Contours/' + EXP_NAME + BODY_PART + VIDEO_NAME +  \"_max_intensity_ROI.xml\""
   ]
  },
  {
   "cell_type": "code",
   "execution_count": null,
   "metadata": {
    "scrolled": true
   },
   "outputs": [],
   "source": [
    "# Optional (use if slide appears in video partway through)\n",
    "ROI = []\n",
    "ROI = find_midline_midpoints.load_contour(FILE_FLUO_ROI)"
   ]
  },
  {
   "cell_type": "code",
   "execution_count": null,
   "metadata": {},
   "outputs": [],
   "source": [
    "# Calculate fluorescence intensity for each video frame\n",
    "fluo = trace_fluo.trace(FILE_VIDEO, display=False, ROI=ROI)"
   ]
  },
  {
   "cell_type": "code",
   "execution_count": null,
   "metadata": {
    "scrolled": false
   },
   "outputs": [],
   "source": [
    "# Plot fluorescence\n",
    "fig = plt.figure(figsize=(20,3))\n",
    "ax = fig.add_subplot(1,1,1)\n",
    "plt.plot(fluo, 'g')\n",
    "plt.show()"
   ]
  },
  {
   "cell_type": "code",
   "execution_count": null,
   "metadata": {},
   "outputs": [],
   "source": [
    "# Save the results\n",
    "df = pd.DataFrame(fluo)\n",
    "df.to_csv(FILE_FLUO, index=False)"
   ]
  },
  {
   "cell_type": "code",
   "execution_count": null,
   "metadata": {
    "scrolled": false
   },
   "outputs": [],
   "source": [
    "# Correct for camera moving (jumps in fluo caused by camera recentering and capturing more of animal)\n",
    "\n",
    "# Identify big gaps between consecutive frames\n",
    "x = len(fluo)-1\n",
    "ax.axvline(x, color='r')\n",
    "fig"
   ]
  },
  {
   "cell_type": "code",
   "execution_count": null,
   "metadata": {},
   "outputs": [],
   "source": [
    "fluo = pd.read_csv(FILE_FLUO)\n",
    "diff = fluo.iloc[x] - fluo.iloc[x-1]\n",
    "unadjusted = fluo.iloc[:x]\n",
    "adjusted = fluo.iloc[x:]-diff\n",
    "fluo_adjusted = pd.concat((unadjusted,adjusted))\n",
    "\n",
    "plt.figure(figsize=(20,3))\n",
    "plt.plot(fluo_adjusted, 'g')\n",
    "plt.show()"
   ]
  },
  {
   "cell_type": "code",
   "execution_count": null,
   "metadata": {},
   "outputs": [],
   "source": [
    "# Save the results again\n",
    "df = pd.DataFrame(fluo_adjusted)\n",
    "df.to_csv(FILE_FLUO, index=False)"
   ]
  },
  {
   "cell_type": "markdown",
   "metadata": {},
   "source": [
    "## Compare midline length and fluorescence"
   ]
  },
  {
   "cell_type": "code",
   "execution_count": null,
   "metadata": {},
   "outputs": [],
   "source": [
    "midlens = pd.read_csv(FILE_LENGTH)\n",
    "\n",
    "fluo = pd.read_csv(FILE_FLUO)"
   ]
  },
  {
   "cell_type": "code",
   "execution_count": null,
   "metadata": {},
   "outputs": [],
   "source": [
    "# using this to work around nan values in midlens data\n",
    "def norm_to_zero_one_df(df):\n",
    "    return (df - df.min()) * 1.0 / (df.max() - df.min())\n",
    "\n",
    "def norm_to_zero_one_np(arr):\n",
    "    return (arr - np.min(arr)) * 1.0 / (np.max(arr) - np.min(arr))"
   ]
  },
  {
   "cell_type": "code",
   "execution_count": null,
   "metadata": {},
   "outputs": [],
   "source": [
    "midlens_norm = norm_to_zero_one_df(midlens)\n",
    "fluo_norm = norm_to_zero_one_np(fluo)"
   ]
  },
  {
   "cell_type": "code",
   "execution_count": null,
   "metadata": {
    "scrolled": true
   },
   "outputs": [],
   "source": [
    "# Plot overlayed length and fluorescence\n",
    "\n",
    "timex = np.arange(0, len(midlens)/FPS, 1/FPS)\n",
    "\n",
    "fig = plt.figure(figsize=(20,3))\n",
    "ax = fig.add_subplot(1,1,1)\n",
    "ax_ = ax.twinx()\n",
    "lns1 = ax.plot(timex, midlens_norm, 'b', label='length')\n",
    "lns2 = ax.plot(timex, fluo_norm, 'g', label='fluo')\n",
    "lns = lns1 + lns2\n",
    "labs = [l.get_label() for l in lns]\n",
    "ax.legend(lns, labs, loc='best')\n",
    "ax.set(xlabel='Time [sec]', ylabel='Length/ fluo (normalized)', title=VIDEO_NAME)\n",
    "\n",
    "# save plot (without highlighting)\n",
    "plt.savefig(SAVE_DIR + VIDEO_NAME + \"_plot.jpg\")"
   ]
  },
  {
   "cell_type": "code",
   "execution_count": null,
   "metadata": {},
   "outputs": [],
   "source": [
    "# highlight portion of graph to display alongside movie clip\n",
    "ax.axvspan(100, 250, color='yellow', alpha=0.5)\n",
    "# ax.axvspan(500, 550, color='pink', alpha=0.5)\n",
    "fig"
   ]
  }
 ],
 "metadata": {
  "kernelspec": {
   "display_name": "Python 3",
   "language": "python",
   "name": "python3"
  },
  "language_info": {
   "codemirror_mode": {
    "name": "ipython",
    "version": 3
   },
   "file_extension": ".py",
   "mimetype": "text/x-python",
   "name": "python",
   "nbconvert_exporter": "python",
   "pygments_lexer": "ipython3",
   "version": "3.8.8"
  }
 },
 "nbformat": 4,
 "nbformat_minor": 4
}
