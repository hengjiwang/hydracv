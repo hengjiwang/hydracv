{
 "cells": [
  {
   "cell_type": "code",
   "execution_count": 1,
   "id": "385fefcb",
   "metadata": {},
   "outputs": [],
   "source": [
    "import pandas as pd\n",
    "import matplotlib.pyplot as plt"
   ]
  },
  {
   "cell_type": "code",
   "execution_count": 2,
   "id": "1caf6ac9",
   "metadata": {},
   "outputs": [],
   "source": [
    "BISECTION_DATA_HOME = \"/Users/katyabrooun/Google Drive/Shared drives/hydra/data-analysis/Bisection_Full/\"\n",
    "SAVE_DIR_CONTRACTION = BISECTION_DATA_HOME + \"Contraction_Analysis/\"\n",
    "SAVE_DIR = '/Users/katyabrooun/Fairhall_Lab/hydra/bisection-data-analysis/exp6'\n",
    "\n",
    "FPS = 5"
   ]
  },
  {
   "cell_type": "code",
   "execution_count": 3,
   "id": "28ea5bb4",
   "metadata": {},
   "outputs": [],
   "source": [
    "prebisect = \"71420_ngcamp_hy6_prebisect\"\n",
    "oral = \"71420_ngcamp_hy6_oral24hr\"\n",
    "ped = \"71420_ngcamp_hy6_peduncle24hr\"\n",
    "hr = \"24hr\""
   ]
  },
  {
   "cell_type": "markdown",
   "id": "1fa86c3f",
   "metadata": {},
   "source": [
    "## Helper functions"
   ]
  },
  {
   "cell_type": "code",
   "execution_count": 4,
   "id": "ac26a9f3",
   "metadata": {},
   "outputs": [],
   "source": [
    "def read_cb_file(vid):\n",
    "    return pd.read_csv(SAVE_DIR_CONTRACTION + vid + \"_cb_bounds.csv\")[\"bounds\"]"
   ]
  },
  {
   "cell_type": "code",
   "execution_count": 5,
   "id": "69cb7f65",
   "metadata": {},
   "outputs": [],
   "source": [
    "def get_num_frames(vid, bodypart):\n",
    "    fluo = pd.read_csv(SAVE_DIR + bodypart + 'total_fluo_' + vid + '.csv')\n",
    "    length = pd.read_csv(SAVE_DIR + bodypart + \"lengths_\" + vid + \".csv\")\n",
    "    return min(len(fluo),len(length))"
   ]
  },
  {
   "cell_type": "code",
   "execution_count": 6,
   "id": "81d4865c",
   "metadata": {},
   "outputs": [],
   "source": [
    "def get_num_cbs(cbs):\n",
    "    return len(cbs)/2"
   ]
  },
  {
   "cell_type": "code",
   "execution_count": 7,
   "id": "5ac5edb3",
   "metadata": {},
   "outputs": [],
   "source": [
    "def get_freq(num_events, num_frames):\n",
    "    \"\"\"Number of CB events per hour\"\"\"\n",
    "    num_hours = (num_frames/FPS)/3600\n",
    "    return num_events/ num_hours"
   ]
  },
  {
   "cell_type": "code",
   "execution_count": 8,
   "id": "184ba559",
   "metadata": {},
   "outputs": [],
   "source": [
    "def get_intervals(cbs):\n",
    "    \"\"\"intervals in mins\"\"\"\n",
    "    intervals = []\n",
    "    for i in range(1, len(cbs)-2, 2):\n",
    "        interval = cbs[i+1]-cbs[i]\n",
    "        interval_in_mins = interval / FPS/ 60\n",
    "        intervals.append(interval_in_mins)\n",
    "    return intervals"
   ]
  },
  {
   "cell_type": "code",
   "execution_count": 9,
   "id": "45908541",
   "metadata": {},
   "outputs": [],
   "source": [
    "def get_cb_freq_per_chunk(num_frames,cbs):\n",
    "    \"\"\" Chunk size = 10 mins\"\"\" \n",
    "    chunk_len = 60 * FPS * 10 # Number of frames in 10 mins\n",
    "    j = 0\n",
    "    freq_per_chunk = []\n",
    "    curr_count = 0\n",
    "    for i in range(0,num_frames,chunk_len):\n",
    "        curr_max = i+chunk_len\n",
    "        if i + chunk_len > num_frames:\n",
    "            curr_len = curr_max - num_frames\n",
    "        else:\n",
    "            curr_len = chunk_len\n",
    "        while j < len(cbs) and cbs[j] < curr_max:\n",
    "            if cbs[j] < curr_max:\n",
    "                curr_count += 1\n",
    "                # only looking at starts of cb intervals\n",
    "                j += 2\n",
    "            else:\n",
    "                break\n",
    "        curr_mins = curr_len/60/FPS\n",
    "        freq_per_chunk.append(curr_count/curr_mins)\n",
    "        curr_count = 0\n",
    "\n",
    "    return freq_per_chunk"
   ]
  },
  {
   "cell_type": "markdown",
   "id": "6062cc58",
   "metadata": {},
   "source": [
    "## Stats"
   ]
  },
  {
   "cell_type": "markdown",
   "id": "d3a12084",
   "metadata": {},
   "source": [
    "### Gather stats for prebisect"
   ]
  },
  {
   "cell_type": "code",
   "execution_count": 10,
   "id": "a9c526ff",
   "metadata": {},
   "outputs": [],
   "source": [
    "prebisect_num_frames = get_num_frames(prebisect, \"/\")\n",
    "prebisect_cbs = read_cb_file(prebisect)\n",
    "\n",
    "prebisect_num_cbs = len(prebisect_cbs)/2\n",
    "\n",
    "prebisect_intervals = get_intervals(prebisect_cbs)\n",
    "prebisect_cb_freq_per_chunk = get_cb_freq_per_chunk(prebisect_num_frames,prebisect_cbs)"
   ]
  },
  {
   "cell_type": "markdown",
   "id": "ab3d7eb5",
   "metadata": {},
   "source": [
    "### Gather stats for two halves"
   ]
  },
  {
   "cell_type": "code",
   "execution_count": 11,
   "id": "c5eec98a",
   "metadata": {
    "scrolled": true
   },
   "outputs": [],
   "source": [
    "oral_cbs = pd.read_csv(SAVE_DIR_CONTRACTION + oral + \"_cb_bounds.csv\")[\"bounds\"]\n",
    "ped_cbs = pd.read_csv(SAVE_DIR_CONTRACTION + ped + \"_cb_bounds.csv\")[\"bounds\"]\n",
    "oral_num_cbs = len(oral_cbs)/2\n",
    "ped_num_cbs = len(ped_cbs)/2\n",
    "\n",
    "\n",
    "oral_intervals = get_intervals(oral_cbs)\n",
    "ped_intervals = get_intervals(ped_cbs)\n",
    "\n",
    "\n",
    "oral_num_frames = get_num_frames(oral, \"/Hypostome/\")\n",
    "ped_num_frames = get_num_frames(ped, \"/Peduncle/\")\n",
    "\n",
    "oral_cb_freq_per_chunk = get_cb_freq_per_chunk(oral_num_frames,oral_cbs)\n",
    "ped_cb_freq_per_chunk = get_cb_freq_per_chunk(ped_num_frames,ped_cbs)"
   ]
  },
  {
   "cell_type": "markdown",
   "id": "882d6ff3",
   "metadata": {},
   "source": [
    "## Graphs"
   ]
  },
  {
   "cell_type": "code",
   "execution_count": 12,
   "id": "8a649076",
   "metadata": {},
   "outputs": [],
   "source": [
    "vids=[\"Prebisect\", \"Hypostome \" + hr, \"Peduncle \" + hr]"
   ]
  },
  {
   "cell_type": "code",
   "execution_count": 13,
   "id": "c3577b7d",
   "metadata": {},
   "outputs": [
    {
     "data": {
      "image/png": "[encoded data removed]",
      "text/plain": [
       "<Figure size 432x288 with 1 Axes>"
      ]
     },
     "metadata": {
      "needs_background": "light"
     },
     "output_type": "display_data"
    }
   ],
   "source": [
    "freqs_24hr = [get_freq(prebisect_num_cbs, prebisect_num_frames),\\\n",
    "              get_freq(oral_num_cbs,oral_num_frames),\\\n",
    "              get_freq(ped_num_cbs,ped_num_frames)]\n",
    "plt.bar([1,2,3],freqs_24hr,tick_label=vids,color=[\"indigo\",\"plum\",\"violet\"])\n",
    "plt.ylabel(\"Number of CB events/ 1 hr\")\n",
    "plt.title(\"Frequency of CB events\")\n",
    "plt.show()"
   ]
  },
  {
   "cell_type": "code",
   "execution_count": 14,
   "id": "17f1a7ba",
   "metadata": {},
   "outputs": [
    {
     "data": {
      "image/png": "[encoded data removed]",
      "text/plain": [
       "<Figure size 432x288 with 1 Axes>"
      ]
     },
     "metadata": {
      "needs_background": "light"
     },
     "output_type": "display_data"
    }
   ],
   "source": [
    "plt.boxplot(x = [prebisect_cb_freq_per_chunk,oral_cb_freq_per_chunk,ped_cb_freq_per_chunk],\\\n",
    "           labels=vids)\n",
    "plt.ylabel(\"# CB events/ 10 mins\")\n",
    "plt.title(\"Frequency of CB events per 10 minute chunk\")\n",
    "plt.show()"
   ]
  },
  {
   "cell_type": "code",
   "execution_count": 15,
   "id": "af3b3afc",
   "metadata": {},
   "outputs": [
    {
     "data": {
      "image/png": "[encoded data removed]",
      "text/plain": [
       "<Figure size 432x288 with 1 Axes>"
      ]
     },
     "metadata": {
      "needs_background": "light"
     },
     "output_type": "display_data"
    }
   ],
   "source": [
    "plt.boxplot(x = [prebisect_intervals,oral_intervals,ped_intervals], \\\n",
    "           labels=vids)\n",
    "plt.ylabel(\"Number of minutes\")\n",
    "plt.title(\"Length of intervals between CB events\")\n",
    "plt.show()"
   ]
  }
 ],
 "metadata": {
  "kernelspec": {
   "display_name": "Python 3",
   "language": "python",
   "name": "python3"
  },
  "language_info": {
   "codemirror_mode": {
    "name": "ipython",
    "version": 3
   },
   "file_extension": ".py",
   "mimetype": "text/x-python",
   "name": "python",
   "nbconvert_exporter": "python",
   "pygments_lexer": "ipython3",
   "version": "3.8.8"
  }
 },
 "nbformat": 4,
 "nbformat_minor": 5
}
